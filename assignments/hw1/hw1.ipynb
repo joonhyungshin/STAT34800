{
 "cells": [
  {
   "cell_type": "markdown",
   "metadata": {},
   "source": [
    "# **Homework 1:** The Hunt for the USS Scorpion (Part I)\n",
    "## Likelihood and prior odds, risk, decision theory, and intro to Python\n",
    "STATS348, UChicago, Spring 2023\n",
    "\n",
    "----------------\n",
    "**Your name here:**\n",
    "Joonhyung Shin\n",
    "\n",
    "----------------\n",
    "\n",
    "<a href=\"https://colab.research.google.com/github/aschein/stat_348/blob/main/assignments/hw1/hw1.ipynb\" target=\"_parent\"><img src=\"https://colab.research.google.com/assets/colab-badge.svg\" alt=\"Open In Colab\"/></a>\n",
    "\n",
    "---"
   ]
  },
  {
   "cell_type": "markdown",
   "metadata": {},
   "source": [
    "## Instructions\n",
    "\n",
    "The purpose of this homework is to:\n",
    "\n",
    "* introduce you to Python in Jupyter notebooks\n",
    "* setup the story of the USS Scorpion, which we will build on in future homeworks\n",
    "* practice some foundational ideas in Bayesian decision/search theory\n",
    "\n",
    "We have written and coded a lot of this homework to provide you with structure and examples. \n",
    "\n",
    "Please read through it carefully and provide answers to questions where marked. \n",
    "\n",
    "Good hunting! "
   ]
  },
  {
   "cell_type": "markdown",
   "metadata": {},
   "source": [
    "## Setting\n",
    "\n",
    "It is May 1968 and the USS _Scorpion_ has just disappeared somewhere in the Atlantic Ocean, likely off the coast of Spain. You are the lone statistician on board the USS _Mizar_, which has been dispatched to find the missing submarine. Your job is to guide the search as best you can, given the data at your disposal.\n",
    "\n",
    "Before doing anything else, you should import some useful Python libraries."
   ]
  },
  {
   "cell_type": "code",
   "execution_count": 1,
   "metadata": {},
   "outputs": [],
   "source": [
    "# library for dataframes\n",
    "import pandas as pd\n",
    "\n",
    "# scientific computing libraries\n",
    "import numpy as np\n",
    "import numpy.random as rn\n",
    "import scipy.stats as st\n",
    "\n",
    "# plotting libraries\n",
    "import matplotlib.pyplot as plt\n",
    "import seaborn as sns"
   ]
  },
  {
   "cell_type": "markdown",
   "metadata": {},
   "source": [
    "## Magnetometer measurements\n",
    "The _Mizar_ is pulling a magnetometer behind it underwater as it searches. A magnetometer is an instrument that measures magnetic field in units of nanoTesla (nT). When a magnetometer is nearby a large metal object, like a missing submarine, it (should) produce large values. \n",
    "\n",
    "The technician has informed you when there is no large metal object nearby ($Z=0$), the measurements are exponentially distributed:\n",
    "\n",
    "\\begin{align}\n",
    "P(y_1,\\dots,y_n \\mid Z=0) = \\prod_{i=1}^n \\textrm{Expon}(y_i;\\,\\alpha_0)\n",
    "\\end{align}\n",
    "\n",
    "The _scale_ parameter $\\alpha_0=1$ has been tuned for you to match the background noise in the ocean.\n",
    "\n",
    "The following function implements the **log likelihood** for the null ($Z=0$) model described above. It uses the [scipy.stats](https://docs.scipy.org/doc/scipy/reference/stats.html) library, which contains many useful functions for probability and statistics."
   ]
  },
  {
   "cell_type": "code",
   "execution_count": 2,
   "metadata": {},
   "outputs": [],
   "source": [
    "def magnetometer_null_log_likelihood(data, alpha0=1.0):\n",
    "    \"\"\"Calculate the log likelihood under the null (Z=0) model.\n",
    "    \n",
    "    Args:\n",
    "        data (array-like): Data to calculate the likelihood for.\n",
    "        alpha0 (float): Shape parameter of the exponential distribution.\n",
    "                        Default: 1.0 (tuned to match background noise in ocean.\n",
    "    \n",
    "    Returns:\n",
    "        float: Log likelihood of the data under the null model.\n",
    "    \"\"\"\n",
    "    return st.expon(scale=alpha0).logpdf(data).sum()"
   ]
  },
  {
   "cell_type": "markdown",
   "metadata": {},
   "source": [
    "The technician has further informed you that in previous trials, under controlled settings where the distance to a large metal object is known, the measurements are exponentially distributed, with scale parameter that depends on distance $D$ to the object \n",
    "\n",
    "\\begin{align}\n",
    "\\underbrace{P(y_i \\mid Z=1, D_i)}_{\\textrm{complete data likelihood}}= \\textrm{Expon}(y_i;\\,\\underbrace{\\alpha_0 + \\alpha D_i^{-3}}_{\\textrm{scale parameter}})\n",
    "\\end{align}\n",
    "\n",
    "The coefficient $\\alpha$ has been tuned for our purposes to take into account the size and shape of the _Scorpion_, $\\alpha=1.23$.\n",
    "\n",
    "This is the ``complete data likelihood'' since it depends on distance which, in practice, we do not observe. Instead, we would like to work with the marginal likelihood:\n",
    "\n",
    "\\begin{align}\n",
    "\\underbrace{P(y_i \\mid Z=1)}_{\\textrm{marginal data likelihood}}= \\int P(y_i \\mid Z=1, D_i) \\, P(D_i) \\,dD_i \n",
    "\\end{align}\n",
    "\n",
    "We don't know where the Mizar was in the (1mi x 1mi) cell when it took each measurement, and don't know where the Scorpion is either, so appealing to the ``principle of insufficient reason'', we will define our prior $P(D_i)$ to be based on the **distribution of distance between two points drawn uniformly at random in a square**. \n",
    "\n",
    "We provide a function to sample from this distribution and plot a histogram below."
   ]
  },
  {
   "cell_type": "code",
   "execution_count": 3,
   "metadata": {},
   "outputs": [
    {
     "data": {
      "image/png": "[encoded data removed]",
      "text/plain": [
       "<Figure size 432x288 with 1 Axes>"
      ]
     },
     "metadata": {
      "needs_background": "light"
     },
     "output_type": "display_data"
    }
   ],
   "source": [
    "def sample_distance_in_cell(size=1):\n",
    "    \"\"\"Sample the distance in km between the USS Mizar and the USS Scorpion in the (1mi x 1mi) cell.\n",
    "\n",
    "        - This accounts for 0.25km of average ocean depth\n",
    "\n",
    "    Args:\n",
    "        size (int): Number of samples to generate. Default: 1.\n",
    "    \n",
    "    Returns:\n",
    "        array-like: Samples of the distance in kilometers between two points in the (1mi x 1mi) cell.\n",
    "    \"\"\"\n",
    "    mi_to_km = 1.60934\n",
    "    coords_mizar = mi_to_km * st.uniform.rvs(size=(size, 2)) # the (x,y) coordinates of the mizar\n",
    "    coords_scorp = mi_to_km * st.uniform.rvs(size=(size, 2)) # the (x,y) coordinates of the scorpion\n",
    "\n",
    "    distance = np.sqrt(0.25 + np.sum((coords_mizar - coords_scorp) ** 2, axis=1))\n",
    "    return distance\n",
    "\n",
    "rn.seed(617)  # do not change this line!\n",
    "n_samples = 100000\n",
    "distances = sample_distance_in_cell(size=n_samples)\n",
    "_ = plt.hist(distances, bins=20, density=True)\n",
    "_ = plt.xlabel('Distance (km)')\n",
    "_ = plt.ylabel('Density')\n",
    "_ = plt.title('Distance between Mizar and Scorpion in cell')\n"
   ]
  },
  {
   "cell_type": "markdown",
   "metadata": {},
   "source": [
    "## Approximation\n",
    "Instead of trying to form the marginal likelihood analytically, we will approximate it as\n",
    "\\begin{align}\n",
    "\\underbrace{P(y_i \\mid Z=1)}_{\\textrm{marginal data likelihood}}= \\int P(y_i \\mid Z=1, D_i) \\, P(D_i) \\,dD_i \\approx \\sum_{k=1}^K P(y_i \\mid Z=1, D=d_k) \\, \\pi_k\n",
    "\\end{align}\n",
    "where here we have a discrete set of distances $\\{d_k\\}_{k=1}^K$, each corresponding to a probability $\\pi_k$ where $\\sum_{k=1}^K \\pi_k=1$. "
   ]
  },
  {
   "cell_type": "markdown",
   "metadata": {},
   "source": [
    "## Question 1 [Write] (10pts):\n",
    "We provide a way to construct $\\{d_k\\}_{k=1}^K$ and $\\{\\pi_k\\}_{k=1}^K$ from samples below. \n",
    "\n",
    "Take time to review each line, and then provide a description of what the function is doing. \n",
    "\n",
    "Your answer should include: \n",
    "\n",
    "* a high-level description of the algorithm\n",
    "* explanations of what the numpy functions `linspace` and `histogram` are doing\n",
    "* what the special indexing `[:-1]` and `[1:]` is doing\n",
    "* what the output of the function is in terms of the math above\n",
    "\n",
    "---\n",
    "\n",
    "**Your answer here:**\n",
    "\n",
    "The function `discrete_approximation` partitions the interval that contains `samples` into $K$ bins, collects the samples into the corresponding bins and compute the relative frequencies of the bins.\n",
    "\n",
    "- The function `linspace` partitions the interval.\n",
    "- The function `histogram` computes the size of each bin.\n",
    "- The indexing `[:-1]` gives the subarray except the last element, while the indexing `[1:]` gives the subarray except the first element. If the list is $[b_1,\\cdots,b_n]$, then `b[:-1]` means $[b_1,\\cdots,b_{n-1}]$ and `b[1:]` means $[b_2,\\cdots,b_n]$.\n",
    "- The function returns the pair $\\{d_k\\}_{k=1}^K, \\{\\pi_k\\}_{k=1}^K$.\n",
    "\n",
    "\n",
    "---"
   ]
  },
  {
   "cell_type": "code",
   "execution_count": 4,
   "metadata": {},
   "outputs": [
    {
     "name": "stderr",
     "output_type": "stream",
     "text": [
      "<ipython-input-4-193633de753e>:10: MatplotlibDeprecationWarning: The 'use_line_collection' parameter of stem() was deprecated in Matplotlib 3.6 and will be removed two minor releases later. If any parameter follows 'use_line_collection', they should be passed as keyword, not positionally.\n",
      "  _ = plt.stem(bin_centers, probabilities, use_line_collection=True)\n"
     ]
    },
    {
     "data": {
      "image/png": "[encoded data removed]",
      "text/plain": [
       "<Figure size 432x288 with 1 Axes>"
      ]
     },
     "metadata": {
      "needs_background": "light"
     },
     "output_type": "display_data"
    }
   ],
   "source": [
    "def discrete_approximation(samples, K):\n",
    "    bins = np.linspace(np.min(samples), np.max(samples), K+1)\n",
    "    counts, _ = np.histogram(samples, bins=bins)\n",
    "    probabilities = counts / counts.sum()\n",
    "    bin_centers = (bins[:-1] + bins[1:]) / 2\n",
    "    return bin_centers, probabilities\n",
    "\n",
    "distances = sample_distance_in_cell(size=10000)\n",
    "bin_centers, probabilities = discrete_approximation(distances, K=25)\n",
    "_ = plt.stem(bin_centers, probabilities, use_line_collection=True)\n"
   ]
  },
  {
   "cell_type": "markdown",
   "metadata": {},
   "source": [
    "## Question 2a [Code] (20pts):\n",
    "\n",
    "Use the discrete approximation above to implement the approximate marginal likelihood for $Z=1$. For a single data-point that is:\n",
    "\n",
    "\\begin{align}\n",
    "P(y_i \\mid Z=1) \\approx \\sum_{k=1}^K \\textrm{Expon}(y_i; \\alpha_0 + \\alpha d_k^{-3}) \\pi_k\n",
    "\\end{align}\n",
    "\n",
    "where recall that $\\alpha_0=1$ and $\\alpha = 1.23$. \n",
    "\n",
    "Your function should accept multiple data points $y_1,\\dotsm,y_n$ and return the **log approximate marginal likelihood**:\n",
    "\n",
    "\\begin{equation}\n",
    "\\log P(y_1,\\dots,y_n \\mid Z=1) \\approx \\sum_{i=1}^n \\log \\sum_{k=1}^K \\textrm{Expon}(y_i; \\alpha_0 + \\alpha d_k^{-3}) \\pi_k\n",
    "\\end{equation}"
   ]
  },
  {
   "cell_type": "code",
   "execution_count": 5,
   "metadata": {},
   "outputs": [],
   "source": [
    "def magnetometer_log_approx_marginal_likelihood(data, distances, pi, alpha=1.23, alpha0=1.0):\n",
    "    \"\"\"Calculate the log approximate marginal likelihood under the (Z=1) model.\n",
    "    \n",
    "       Args:\n",
    "        data (array-like): Data to calculate the likelihood for.\n",
    "        distances (array-like): Distance d_k values in the discrete approximation.\n",
    "        pi (array-like): Probability pi_k values in the discrete approximation.\n",
    "        alpha (float): Coefficient on distance.\n",
    "                       Default: 1.23 (tuned to match Scorpion).\n",
    "        alpha0 (float): Background noise level.\n",
    "                        Default: 1.0 (tuned to match background noise in ocean).\n",
    "    \n",
    "    Returns:\n",
    "        float: Log approximate marginal likelihood of the data under the (Z=1) model.\n",
    "    \"\"\"\n",
    "\n",
    "    # Your code here #\n",
    "    marginal = np.sum(st.expon.pdf(np.reshape(data, (-1, 1)), scale=alpha0 + alpha/np.array(distances**3)) * pi, axis=1)\n",
    "    return np.sum(np.log(marginal))"
   ]
  },
  {
   "cell_type": "markdown",
   "metadata": {},
   "source": [
    "## Question 2b [Code] (10pts):\n",
    "\n",
    "Implement a function that computes the likelihood odds (LO) ratio for an input set of data\n",
    "\n",
    "\\begin{equation}\n",
    "\\textrm{LO}(y_1,\\dots,y_n) = \\frac{P(y_1,\\dots,y_n \\mid Z=1)}{P(y_1,\\dots,y_n \\mid Z=0)}\n",
    "\\end{equation}\n",
    "\n",
    "Your function should call the functions\n",
    "* `magnetometer_null_log_likelihood`\n",
    "* `magnetometer_log_approx_marginal_likelihood`\n",
    "\n",
    "Your function should take `data` as an argument. If you add other arguments, then add a description of them in the docstring."
   ]
  },
  {
   "cell_type": "code",
   "execution_count": 6,
   "metadata": {},
   "outputs": [],
   "source": [
    "def magnetometer_likelihood_odds(data, distances, pi, alpha=1.23, alpha0=1.0):\n",
    "    \"\"\"Calculate the likelihood odds ratio for the magnetometer data.\n",
    "    \n",
    "    Args:\n",
    "        data (array-like): Data to calculate the likelihood odds for.\n",
    "        distances (array-like): Distance d_k values in the discrete approximation.\n",
    "        pi (array-like): Probability pi_k values in the discrete approximation.\n",
    "        alpha (float): Coefficient on distance.\n",
    "                       Default: 1.23 (tuned to match Scorpion).\n",
    "        alpha0 (float): Background noise level.\n",
    "                        Default: 1.0 (tuned to match background noise in ocean).\n",
    "    \n",
    "    Returns:\n",
    "        float: Likelihood odds.\n",
    "    \"\"\"\n",
    "    \n",
    "    # Your code here #\n",
    "    log_likelihood = magnetometer_log_approx_marginal_likelihood(data, distances, pi, alpha, alpha0)\n",
    "    null_log_likelihood = magnetometer_null_log_likelihood(data, alpha0)\n",
    "    return np.exp(log_likelihood - null_log_likelihood)"
   ]
  },
  {
   "cell_type": "markdown",
   "metadata": {},
   "source": [
    "## Question 2c [Write] (5pts):\n",
    "\n",
    "Run the following code to calculate the likelihood odds on the magnetometer data that just arrived. \n",
    "\n",
    "* Explain what the data say about the hypothesis $Z=1$.\n",
    "\n",
    "---\n",
    "\n",
    "**Your answer here:**\n",
    "\n",
    "Given that our model is true, the data say that the hypothesis $Z=1$ is 0.53 times more likely (or ~ 1.89 times less likely) than the null hypothesis.\n",
    "\n",
    "---\n",
    "\n",
    "* Explain what the data say about the hypothesis $Z=1$ when also taking into account the Captain's prior odds of 1/20.\n",
    "\n",
    "---\n",
    "\n",
    "**Your answer here:**\n",
    "\n",
    "Given that our model is true, the data updates the odds to $0.53\\times1/20\\cong0.027$. In other words, the hypothesis $Z=1$ is ~ 0.027 times likely (or ~ 37 times less likely) than the null hypothesis.\n",
    "\n",
    "---"
   ]
  },
  {
   "cell_type": "code",
   "execution_count": 7,
   "metadata": {
    "tags": []
   },
   "outputs": [
    {
     "name": "stdout",
     "output_type": "stream",
     "text": [
      "Likelihood odds: 0.10\n"
     ]
    }
   ],
   "source": [
    "data = np.load('magnetometer_data.npy')\n",
    "print('Likelihood odds: {:.2f}'.format(magnetometer_likelihood_odds(data, bin_centers, probabilities)))"
   ]
  },
  {
   "cell_type": "markdown",
   "metadata": {
    "tags": []
   },
   "source": [
    "## Do we send the divers?\n",
    "In this problem, we will use Bayesian decision theory to make a principled decision about whether to send divers to search for the Scorpion. Our decision will integrate \n",
    "* the likelihood odds of the magnetometer data\n",
    "* the Captain's prior odds\n",
    "* our loss function\n",
    "* the ``Search effectiveness probability''\n",
    "\n",
    "## Question 3a [Math] (20pts)\n",
    "\n",
    "Recall that our loss function $\\ell(a,z)$ is a function of whether or not we search $a=0,1$ and whether or not the Scorpion is in the cell $z=0,1$.\n",
    "\n",
    "|  $\\ell(a,z)$ | $z=0$ | $z=1$ |\n",
    "| ----- | -------- | -------- |\n",
    "| $a=0$ | $L_{\\textrm{TN}}$   | $L_{\\textrm{FN}}$   |\n",
    "| $a=1$ | $L_{\\textrm{FP}}$   | $L_{\\textrm{TP}}$   |\n",
    "\n",
    "Further recall that the ``search effectiveness probability'' (SEP) is $q = P(\\tilde{Z}=1 \\mid Z=1, a=1)$ where $\\tilde{Z}=1$ denotes successfully finding the Scorpion and $\\tilde{Z}=0$ denotes failing to find it. Incorporating the SEP into our decision problem effectively means re-defining the loss associated with the true positive cell $L_{\\textrm{TP}}$ in terms of losses associated with \"successful\" and \"failed\" true positives:\n",
    "\n",
    "\\begin{equation}\n",
    "L_{\\textrm{TP}} = q L_{\\textrm{STP}} + (1-q) L_{\\textrm{FTP}} \n",
    "\\end{equation}\n",
    "\n",
    "Finally, recall the definition of **Bayesian expected loss**:\n",
    "\\begin{equation}\n",
    "\\rho(\\pi^*, a) = E_{Z \\sim \\pi^*}[\\ell(a,Z)]\n",
    "\\end{equation}\n",
    "where the expectation is with respect to our posterior distribution $\\pi^* = P(Z=1\\mid y_1, \\dots, y_n)$.\n",
    "\n",
    "**Derive the threshold $T$ on the likelihood odds, which if exceeded means that we should send the divers:**\n",
    "\n",
    "\\begin{align}\n",
    "a^* = \\begin{cases}\n",
    "1 &\\textrm{if } \\frac{P(y_1,\\dots,y_n \\mid Z=1)}{P(y_1,\\dots,y_n \\mid Z=0)} > T \\\\\n",
    "0 &\\textrm{otherwise }\n",
    "\\end{cases}\n",
    "\\end{align}\n",
    "\n",
    "---\n",
    "\n",
    "**Your answer here:**\n",
    "\n",
    "Assume $L_{\\mathrm{TP}}<L_{\\mathrm{FN}}$ and $L_{\\mathrm{TN}}<L_{\\mathrm{FP}}$. Then we have\n",
    "\\begin{equation}\n",
    "    \\rho(\\pi^*,1)=\\pi^*L_{\\mathrm{TP}}+(1-\\pi^*)L_{\\mathrm{FP}}\n",
    "\\end{equation}\n",
    "and\n",
    "\\begin{equation}\n",
    "    \\rho(\\pi^*,0)=\\pi^*L_{\\mathrm{FN}}+(1-\\pi^*)L_{\\mathrm{TN}}\\,.\n",
    "\\end{equation}\n",
    "Hence, $\\rho(\\pi^*,1)<\\rho(\\pi^*,0)$ if and only if\n",
    "\\begin{equation}\n",
    "    \\pi^*L_{\\mathrm{TP}}+(1-\\pi^*)L_{\\mathrm{FP}}<\\pi^*L_{\\mathrm{FN}}+(1-\\pi^*)L_{\\mathrm{TN}} \\iff \\frac{\\pi^*}{1-\\pi^*}>\\frac{L_{\\mathrm{FP}}-L_{\\mathrm{TN}}}{L_{\\mathrm{FN}}-L_{\\mathrm{TP}}}\n",
    "\\end{equation}\n",
    "Note that $\\pi^*/(1-\\pi^*)$ is the posterior odds, which is the product of likelihood odds and prior odds. This gives the threshold\n",
    "\\begin{equation}\n",
    "    T=\\frac{P(Z=0)}{P(Z=1)}\\cdot\\frac{L_{\\mathrm{FP}}-L_{\\mathrm{TN}}}{L_{\\mathrm{FN}}-L_{\\mathrm{TP}}}=\\frac{P(Z=0)}{P(Z=1)}\\cdot\\frac{L_{\\mathrm{FP}}-L_{\\mathrm{TN}}}{L_{\\mathrm{FN}}-q L_{\\textrm{STP}} - (1-q) L_{\\textrm{FTP}}}\\,.\n",
    "\\end{equation}\n",
    "\n",
    "---"
   ]
  },
  {
   "cell_type": "markdown",
   "metadata": {},
   "source": [
    "## Question 3b [Code] (10pts)\n",
    "\n",
    "Implement a function that calculates this threshold. \n",
    "\n",
    "Your function should take as an argument a loss function which is a Python dictionary (as shown below)."
   ]
  },
  {
   "cell_type": "code",
   "execution_count": 8,
   "metadata": {},
   "outputs": [],
   "source": [
    "loss_func = {\n",
    "    'TN': 1,  # true negative\n",
    "    'FP': 25, # false positive\n",
    "    'FN': 100, # false negative\n",
    "    'STP': 1, # successful true positive\n",
    "    'FTP': 10 # failed true positive\n",
    "             }\n",
    "\n",
    "def likelihood_odds_threshold(loss_func, prior_odds, sep):\n",
    "    \"\"\"Calculate the likelihood odds threshold for a given loss function and prior odds.\n",
    "    \n",
    "    Args:\n",
    "        loss_func (dict): Dictionary of loss values.\n",
    "        prior_odds (float): Prior odds.\n",
    "        sep (float): Search effectiveness probability.\n",
    "    \"\"\"\n",
    "    \n",
    "    # Your code here\n",
    "    tp_loss = sep * loss_func['STP'] + (1 - sep) * loss_func['FTP']\n",
    "    return (loss_func['FP'] - loss_func['TN']) / (loss_func['FN'] - tp_loss) / prior_odds"
   ]
  },
  {
   "cell_type": "markdown",
   "metadata": {},
   "source": [
    "## Question 3c [Write] (10pts)\n",
    "\n",
    "Using the likelihood odds of the magnetometer data, the Captain's prior odds of $\\tfrac{1}{20}$, and a SEP of $0.75$, and the loss function given below, use your code to answer the question: **should we send the divers?**\n",
    "\n",
    "---\n",
    "\n",
    "**Your answer here:**\n",
    "\n",
    "As shown below, the threshold is much larger than the likelihood ratio we have computed, so we should not send the divers.\n",
    "\n",
    "---"
   ]
  },
  {
   "cell_type": "code",
   "execution_count": 9,
   "metadata": {},
   "outputs": [
    {
     "name": "stdout",
     "output_type": "stream",
     "text": [
      "Likelihood odds threshold: 12.87\n"
     ]
    }
   ],
   "source": [
    "loss_func = {\n",
    "    'TN': 1,  # true negative\n",
    "    'FP': 15, # false positive\n",
    "    'FN': 25, # false negative\n",
    "    'STP': 1, # successful true positive\n",
    "    'FTP': 10 # failed true positive\n",
    "             }\n",
    "\n",
    "# Your code here\n",
    "print('Likelihood odds threshold: {:.2f}'.format(likelihood_odds_threshold(loss_func, 1 / 20, 0.75)))"
   ]
  },
  {
   "cell_type": "markdown",
   "metadata": {},
   "source": [
    "## Question 3d [Write] (15pts)\n",
    "\n",
    "Explore some of the parameter settings (e.g., loss function, SEP, prior) and find a setting that changes your answer. Explain what the parameter changes are, and why they change the answer. Show the code below that led to your conclusion.\n",
    "\n",
    "---\n",
    "\n",
    "**Your answer here:**\n",
    "\n",
    "If we increase the prior odds (e.g. 0.05 to 10), then the threshold decreases and we may arrive at a different conclusion. Intuitively, this means that the Captain has a strong feeling that the Scorpion is in the current cell, so we may want to send divers with smaller likelihood odds.\n",
    "\n",
    "For another example, we may modify the loss function so that the loss for false positive is small and the loss for false negative is large. In reality, this can model the case where we are more eager to find the Scorpion and the cost of sending divers is low, so we may choose to search more actively.\n",
    "\n",
    "Increasing SEP also leads to the decrease of the threshold: intuitively, this means we have higher probability of finding the Scorpion if it is actually there, so there is no need to be too conservative. However, the difference is not big enough to change the conclusion since SEP is already fairly large.\n",
    "\n",
    "---"
   ]
  },
  {
   "cell_type": "code",
   "execution_count": 10,
   "metadata": {},
   "outputs": [
    {
     "name": "stdout",
     "output_type": "stream",
     "text": [
      "Threshold with modified prior odds: 0.06\n",
      "Threshold with modified SEP: 11.67\n",
      "Threshold with modified loss function: 0.07\n"
     ]
    }
   ],
   "source": [
    "# Your code here\n",
    "\n",
    "print('Threshold with modified prior odds: {:.2f}'.format(likelihood_odds_threshold(loss_func, 10, 0.75)))\n",
    "\n",
    "print('Threshold with modified SEP: {:.2f}'.format(likelihood_odds_threshold(loss_func, 1 / 20, 1)))\n",
    "\n",
    "loss_func = {\n",
    "    'TN': 1,\n",
    "    'FP': 2,\n",
    "    'FN': 300,\n",
    "    'STP': 1,\n",
    "    'FTP': 10\n",
    "}\n",
    "print('Threshold with modified loss function: {:.2f}'.format(likelihood_odds_threshold(loss_func, 1 / 20, 0.75)))"
   ]
  }
 ],
 "metadata": {
  "colab": {
   "authorship_tag": "ABX9TyOEIcgdHfyD4yGF2Q4D7WMS",
   "include_colab_link": true,
   "provenance": []
  },
  "kernelspec": {
   "display_name": "Python 3",
   "language": "python",
   "name": "python3"
  },
  "language_info": {
   "codemirror_mode": {
    "name": "ipython",
    "version": 3
   },
   "file_extension": ".py",
   "mimetype": "text/x-python",
   "name": "python",
   "nbconvert_exporter": "python",
   "pygments_lexer": "ipython3",
   "version": "3.9.16"
  },
  "vscode": {
   "interpreter": {
    "hash": "e31d8529818713d98a38061e476a303cb7aebfe46db2981fe05de46bbfa528ef"
   }
  }
 },
 "nbformat": 4,
 "nbformat_minor": 4
}
